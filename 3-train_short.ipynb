{
 "cells": [
  {
   "cell_type": "markdown",
   "id": "a40c2db5-3435-4cb2-956c-17f117ebba8c",
   "metadata": {},
   "source": [
    "# Block[1-3]¶\n",
    "To begin with the training process, we will import the dataset that was constructed during the feature selection phase and eliminate any extraneous columns from it in order to make it ready for training."
   ]
  },
  {
   "cell_type": "code",
   "execution_count": 1,
   "id": "b8b447d9-990c-4b60-a773-91c5f653188e",
   "metadata": {},
   "outputs": [],
   "source": [
    "# Importing neccessary libraries for training and set logs to only show error messages\n",
    "import numpy as np\n",
    "import pandas as pd\n",
    "import matplotlib.pyplot as plt\n",
    "import os\n",
    "os.environ['TF_CPP_MIN_LOG_LEVEL'] = '2'\n",
    "import warnings\n",
    "with warnings.catch_warnings():\n",
    "    warnings.filterwarnings(\"ignore\", category=FutureWarning)\n",
    "    import tensorflow as tf\n",
    "tf.compat.v1.logging.set_verbosity(tf.compat.v1.logging.ERROR)\n",
    "from tensorflow import keras\n",
    "from tensorflow import feature_column\n",
    "from tensorflow.keras import layers"
   ]
  },
  {
   "cell_type": "code",
   "execution_count": 2,
   "id": "88842900-e46d-4004-a7e7-92af0d5275e5",
   "metadata": {},
   "outputs": [],
   "source": [
    "#Read and trim the train dataset prepared in previous step\n",
    "source = pd.read_csv('train.csv')\n",
    "dataset = source.copy()\n",
    "#Remove Date From dataset\n",
    "dataset.drop(['Date' ], axis=1 ,inplace=True)\n",
    "#Set target_short as the main label cause we are going to train long and drop other unnecessary columns\n",
    "dataframe = dataset.copy()\n",
    "dataframe['target'] = dataset['target_short']\n",
    "#Custom drop list to be removed from dataframe. You can add or remove columns here based on your need\n",
    "drop_list = [\n",
    "    'close',\n",
    "    'open',\n",
    "    'high',\n",
    "    'low',\n",
    "    'sma9',\n",
    "    'sma20',\n",
    "    'sma200',\n",
    "    'target_long',\n",
    "    'target_short'\n",
    "]\n",
    "dataframe = dataframe.drop(drop_list, axis=1)"
   ]
  },
  {
   "cell_type": "code",
   "execution_count": 3,
   "id": "1dcf144e-a7b6-4dae-a13c-0b004be2425e",
   "metadata": {},
   "outputs": [
    {
     "data": {
      "text/html": [
       "<div>\n",
       "<style scoped>\n",
       "    .dataframe tbody tr th:only-of-type {\n",
       "        vertical-align: middle;\n",
       "    }\n",
       "\n",
       "    .dataframe tbody tr th {\n",
       "        vertical-align: top;\n",
       "    }\n",
       "\n",
       "    .dataframe thead th {\n",
       "        text-align: right;\n",
       "    }\n",
       "</style>\n",
       "<table border=\"1\" class=\"dataframe\">\n",
       "  <thead>\n",
       "    <tr style=\"text-align: right;\">\n",
       "      <th></th>\n",
       "      <th>volume</th>\n",
       "      <th>sma200_4h</th>\n",
       "      <th>diff_sma9</th>\n",
       "      <th>diff_sma20</th>\n",
       "      <th>diff_sma200</th>\n",
       "      <th>diff_sma200_4h</th>\n",
       "      <th>diff_sma9_sma20</th>\n",
       "      <th>target</th>\n",
       "    </tr>\n",
       "  </thead>\n",
       "  <tbody>\n",
       "    <tr>\n",
       "      <th>0</th>\n",
       "      <td>686.367415</td>\n",
       "      <td>NaN</td>\n",
       "      <td>-0.000961</td>\n",
       "      <td>-0.008023</td>\n",
       "      <td>-0.023196</td>\n",
       "      <td>NaN</td>\n",
       "      <td>-0.007068</td>\n",
       "      <td>0</td>\n",
       "    </tr>\n",
       "    <tr>\n",
       "      <th>1</th>\n",
       "      <td>613.539120</td>\n",
       "      <td>NaN</td>\n",
       "      <td>-0.002437</td>\n",
       "      <td>-0.010103</td>\n",
       "      <td>-0.025682</td>\n",
       "      <td>NaN</td>\n",
       "      <td>-0.007685</td>\n",
       "      <td>0</td>\n",
       "    </tr>\n",
       "    <tr>\n",
       "      <th>2</th>\n",
       "      <td>895.302181</td>\n",
       "      <td>NaN</td>\n",
       "      <td>-0.000964</td>\n",
       "      <td>-0.009124</td>\n",
       "      <td>-0.025261</td>\n",
       "      <td>NaN</td>\n",
       "      <td>-0.008168</td>\n",
       "      <td>0</td>\n",
       "    </tr>\n",
       "    <tr>\n",
       "      <th>3</th>\n",
       "      <td>796.714817</td>\n",
       "      <td>NaN</td>\n",
       "      <td>0.001341</td>\n",
       "      <td>-0.007466</td>\n",
       "      <td>-0.024130</td>\n",
       "      <td>NaN</td>\n",
       "      <td>-0.008795</td>\n",
       "      <td>0</td>\n",
       "    </tr>\n",
       "    <tr>\n",
       "      <th>4</th>\n",
       "      <td>1317.452909</td>\n",
       "      <td>NaN</td>\n",
       "      <td>0.001069</td>\n",
       "      <td>-0.006785</td>\n",
       "      <td>-0.023923</td>\n",
       "      <td>NaN</td>\n",
       "      <td>-0.007846</td>\n",
       "      <td>0</td>\n",
       "    </tr>\n",
       "    <tr>\n",
       "      <th>...</th>\n",
       "      <td>...</td>\n",
       "      <td>...</td>\n",
       "      <td>...</td>\n",
       "      <td>...</td>\n",
       "      <td>...</td>\n",
       "      <td>...</td>\n",
       "      <td>...</td>\n",
       "      <td>...</td>\n",
       "    </tr>\n",
       "    <tr>\n",
       "      <th>17540</th>\n",
       "      <td>1936.480276</td>\n",
       "      <td>21599.92275</td>\n",
       "      <td>0.015546</td>\n",
       "      <td>0.010303</td>\n",
       "      <td>0.115669</td>\n",
       "      <td>0.348463</td>\n",
       "      <td>-0.005163</td>\n",
       "      <td>0</td>\n",
       "    </tr>\n",
       "    <tr>\n",
       "      <th>17541</th>\n",
       "      <td>2524.473117</td>\n",
       "      <td>21599.92275</td>\n",
       "      <td>0.008593</td>\n",
       "      <td>0.004353</td>\n",
       "      <td>0.108392</td>\n",
       "      <td>0.341040</td>\n",
       "      <td>-0.004203</td>\n",
       "      <td>0</td>\n",
       "    </tr>\n",
       "    <tr>\n",
       "      <th>17542</th>\n",
       "      <td>1438.506320</td>\n",
       "      <td>21599.92275</td>\n",
       "      <td>0.010999</td>\n",
       "      <td>0.008351</td>\n",
       "      <td>0.112401</td>\n",
       "      <td>0.347266</td>\n",
       "      <td>-0.002620</td>\n",
       "      <td>0</td>\n",
       "    </tr>\n",
       "    <tr>\n",
       "      <th>17543</th>\n",
       "      <td>1976.419295</td>\n",
       "      <td>21599.92275</td>\n",
       "      <td>0.002706</td>\n",
       "      <td>0.002385</td>\n",
       "      <td>0.104471</td>\n",
       "      <td>0.339062</td>\n",
       "      <td>-0.000320</td>\n",
       "      <td>0</td>\n",
       "    </tr>\n",
       "    <tr>\n",
       "      <th>17544</th>\n",
       "      <td>2311.811442</td>\n",
       "      <td>21657.24225</td>\n",
       "      <td>0.004314</td>\n",
       "      <td>0.004921</td>\n",
       "      <td>0.106021</td>\n",
       "      <td>0.338819</td>\n",
       "      <td>0.000604</td>\n",
       "      <td>0</td>\n",
       "    </tr>\n",
       "  </tbody>\n",
       "</table>\n",
       "<p>17545 rows × 8 columns</p>\n",
       "</div>"
      ],
      "text/plain": [
       "            volume    sma200_4h  diff_sma9  diff_sma20  diff_sma200  \\\n",
       "0       686.367415          NaN  -0.000961   -0.008023    -0.023196   \n",
       "1       613.539120          NaN  -0.002437   -0.010103    -0.025682   \n",
       "2       895.302181          NaN  -0.000964   -0.009124    -0.025261   \n",
       "3       796.714817          NaN   0.001341   -0.007466    -0.024130   \n",
       "4      1317.452909          NaN   0.001069   -0.006785    -0.023923   \n",
       "...            ...          ...        ...         ...          ...   \n",
       "17540  1936.480276  21599.92275   0.015546    0.010303     0.115669   \n",
       "17541  2524.473117  21599.92275   0.008593    0.004353     0.108392   \n",
       "17542  1438.506320  21599.92275   0.010999    0.008351     0.112401   \n",
       "17543  1976.419295  21599.92275   0.002706    0.002385     0.104471   \n",
       "17544  2311.811442  21657.24225   0.004314    0.004921     0.106021   \n",
       "\n",
       "       diff_sma200_4h  diff_sma9_sma20  target  \n",
       "0                 NaN        -0.007068       0  \n",
       "1                 NaN        -0.007685       0  \n",
       "2                 NaN        -0.008168       0  \n",
       "3                 NaN        -0.008795       0  \n",
       "4                 NaN        -0.007846       0  \n",
       "...               ...              ...     ...  \n",
       "17540        0.348463        -0.005163       0  \n",
       "17541        0.341040        -0.004203       0  \n",
       "17542        0.347266        -0.002620       0  \n",
       "17543        0.339062        -0.000320       0  \n",
       "17544        0.338819         0.000604       0  \n",
       "\n",
       "[17545 rows x 8 columns]"
      ]
     },
     "execution_count": 3,
     "metadata": {},
     "output_type": "execute_result"
    }
   ],
   "source": [
    "dataframe"
   ]
  },
  {
   "cell_type": "markdown",
   "id": "993a46b0-70a6-40cf-bf8f-e6062fcb2134",
   "metadata": {},
   "source": [
    "# Block[4-7]\n",
    "We need to preprocess data for training a machine learning model in TensorFlow using feature columns to make it easier to train a neural network and improve the accuracy of the resulting model."
   ]
  },
  {
   "cell_type": "code",
   "execution_count": 4,
   "id": "90342eb0-4a1a-425e-bac7-70498c2f97dc",
   "metadata": {},
   "outputs": [
    {
     "name": "stdout",
     "output_type": "stream",
     "text": [
      "11228 train examples\n",
      "2750 #train target\n",
      "-----------------\n",
      "2808 validation examples\n",
      "718 #validation target\n",
      "-----------------\n",
      "3509 test examples\n",
      "866 #test target\n"
     ]
    }
   ],
   "source": [
    "# Use the train_test_split function from the scikit-learn library to split our dataframe into training, validation, and testing sets\n",
    "from sklearn.model_selection import train_test_split\n",
    "train, test = train_test_split(dataframe, test_size=0.2)\n",
    "train, val = train_test_split(train, test_size=0.2)\n",
    "\n",
    "print(len(train), 'train examples')\n",
    "print(sum(train.target), '#train target')\n",
    "print(\"-----------------\")\n",
    "print(len(val), 'validation examples')\n",
    "print(sum(val.target), '#validation target')\n",
    "print(\"-----------------\")\n",
    "print(len(test), 'test examples')\n",
    "print(sum(test.target), '#test target')"
   ]
  },
  {
   "cell_type": "code",
   "execution_count": 5,
   "id": "dc284077-0666-4cae-8c5e-9bf6d8477c15",
   "metadata": {},
   "outputs": [],
   "source": [
    "# A utility method to create a tf.data dataset from a Pandas Dataframe\n",
    "def df_to_dataset(dataframe, shuffle=True, batch_size=32):\n",
    "  dataframe = dataframe.copy()\n",
    "  labels = dataframe.pop('target')\n",
    "  ds = tf.data.Dataset.from_tensor_slices((dict(dataframe), labels))\n",
    "  if shuffle:\n",
    "    ds = ds.shuffle(buffer_size=len(dataframe))\n",
    "  ds = ds.batch(batch_size)\n",
    "  return ds"
   ]
  },
  {
   "cell_type": "code",
   "execution_count": 6,
   "id": "c0471d85-ef82-4ec2-b85b-0b1c9f798637",
   "metadata": {},
   "outputs": [],
   "source": [
    "batch_size = 32 # A small batch sized is used for demonstration purposes\n",
    "train_ds = df_to_dataset(train, batch_size=batch_size)\n",
    "val_ds = df_to_dataset(val, shuffle=False, batch_size=batch_size)\n",
    "test_ds = df_to_dataset(test, shuffle=False, batch_size=batch_size)"
   ]
  },
  {
   "cell_type": "code",
   "execution_count": 7,
   "id": "c2778a80-948e-4a21-b143-2ae6e7817e5a",
   "metadata": {},
   "outputs": [
    {
     "name": "stdout",
     "output_type": "stream",
     "text": [
      "Every feature: ['volume', 'sma200_4h', 'diff_sma9', 'diff_sma20', 'diff_sma200', 'diff_sma200_4h', 'diff_sma9_sma20']\n",
      "A batch of targets: tf.Tensor([0 1 0 1 0 0 0 0 1 1 0 0 0 0 0 1 0 0 0 1 0 1 0 1 0 0 1 0 0 1 0 0], shape=(32,), dtype=int64)\n"
     ]
    }
   ],
   "source": [
    "for feature_batch, label_batch in train_ds.take(1):\n",
    "  print('Every feature:', list(feature_batch.keys()))\n",
    "  print('A batch of targets:', label_batch )\n",
    "\n",
    "example_batch = next(iter(train_ds))[0]\n",
    "\n",
    "# A utility method to create a feature column\n",
    "# and to transform a batch of data\n",
    "def demo(feature_column):\n",
    "  feature_layer = layers.DenseFeatures(feature_column)\n",
    "  print(feature_layer(example_batch).numpy())"
   ]
  },
  {
   "cell_type": "code",
   "execution_count": 8,
   "id": "6979fe1f-f35d-4427-9cea-0b5ce8eab49e",
   "metadata": {},
   "outputs": [],
   "source": [
    "#Make bound json file for storing the bucketized features bounds for further usage\n",
    "import json\n",
    "data = {}\n",
    "with open('short_bound.json', 'w') as outfile:\n",
    "        json.dump(data, outfile)\n",
    "        \n",
    "#Define a function to take the columns from dataset and save their boundaries.      \n",
    "def build_bound(col,no):\n",
    "    buk , ret = pd.qcut(dataframe[col],no, retbins = True )\n",
    "    bound = []\n",
    "    for i in ret:\n",
    "        bound.append(i)\n",
    "\n",
    "    bound.pop(0)\n",
    "    bound.pop(-1)\n",
    "    print(\"Boundaries \" + col + \":\",bound)\n",
    "    \n",
    "    ###save json\n",
    "    f = open(\"short_bound.json\", \"r\")\n",
    "    data = json.load(f)\n",
    "    data[col] = bound\n",
    "    with open('short_bound.json', 'w') as outfile:\n",
    "        json.dump(data, outfile)\n",
    "    return bound"
   ]
  },
  {
   "cell_type": "code",
   "execution_count": 9,
   "id": "0284c5e8-aff6-4a81-b29c-48f8fd60039c",
   "metadata": {},
   "outputs": [
    {
     "name": "stdout",
     "output_type": "stream",
     "text": [
      "Boundaries diff_sma200: [-0.0296349481545231, -0.0074924473916852, 0.0079104661004511, 0.0279396131881294, 0.058815372708410994]\n",
      "Boundaries diff_sma200_4h: [-0.06290632204386784, -0.003489010443146234, 0.0386775882624073, 0.1021401567463601, 0.16666295332529912]\n",
      "Boundaries diff_sma9_sma20: [-0.0028353280723926, 0.0004875399186031, 0.0042155178886833]\n"
     ]
    }
   ],
   "source": [
    "#Define numerical and bucketized features\n",
    "\n",
    "#diffsma9\n",
    "diff_sma9 = feature_column.numeric_column('diff_sma9')\n",
    "\n",
    "#diff_sma200\n",
    "bucksize = 6\n",
    "bound = build_bound(\"diff_sma200\",bucksize)\n",
    "diff_sma200 = feature_column.numeric_column('diff_sma200')\n",
    "diff_sma200_buckets = feature_column.bucketized_column(diff_sma200, boundaries=bound)\n",
    "\n",
    "#diff_sma200_4h\n",
    "bucksize = 6\n",
    "bound = build_bound(\"diff_sma200_4h\",bucksize)\n",
    "diff_sma200_4h = feature_column.numeric_column('diff_sma200_4h')\n",
    "diff_sma200_4h_buckets = feature_column.bucketized_column(diff_sma200_4h, boundaries=bound)\n",
    "\n",
    "#diff_sma9_sma20\n",
    "bucksize = 4\n",
    "bound = build_bound(\"diff_sma9_sma20\",bucksize)\n",
    "diff_sma9_sma20 = feature_column.numeric_column('diff_sma9_sma20')\n",
    "diff_sma9_sma20_buckets = feature_column.bucketized_column(diff_sma9_sma20, boundaries=bound)"
   ]
  },
  {
   "cell_type": "code",
   "execution_count": 10,
   "id": "ff8399ca-4635-47de-88e0-924e4c4f9476",
   "metadata": {},
   "outputs": [
    {
     "name": "stdout",
     "output_type": "stream",
     "text": [
      "Col Info: NumericColumn(key='diff_sma9', shape=(1,), default_value=None, dtype=tf.float32, normalizer_fn=None)\n",
      "-----------------\n",
      "Col Info: BucketizedColumn(source_column=NumericColumn(key='diff_sma200', shape=(1,), default_value=None, dtype=tf.float32, normalizer_fn=None), boundaries=(-0.0296349481545231, -0.0074924473916852, 0.0079104661004511, 0.0279396131881294, 0.058815372708410994))\n",
      "-----------------\n",
      "Col Info: BucketizedColumn(source_column=NumericColumn(key='diff_sma200_4h', shape=(1,), default_value=None, dtype=tf.float32, normalizer_fn=None), boundaries=(-0.06290632204386784, -0.003489010443146234, 0.0386775882624073, 0.1021401567463601, 0.16666295332529912))\n",
      "-----------------\n",
      "Col Info: BucketizedColumn(source_column=NumericColumn(key='diff_sma9_sma20', shape=(1,), default_value=None, dtype=tf.float32, normalizer_fn=None), boundaries=(-0.0028353280723926, 0.0004875399186031, 0.0042155178886833))\n",
      "-----------------\n"
     ]
    }
   ],
   "source": [
    "#Define feature columns to pass to model for training\n",
    "\n",
    "feature_columns = []\n",
    "\n",
    "feature_columns.append(diff_sma9)\n",
    "feature_columns.append(diff_sma200_buckets)\n",
    "feature_columns.append(diff_sma200_4h_buckets)\n",
    "feature_columns.append(diff_sma9_sma20_buckets)\n",
    "\n",
    "for col in feature_columns:\n",
    "    print(\"Col Info:\", col)\n",
    "    print(\"-----------------\")"
   ]
  },
  {
   "cell_type": "code",
   "execution_count": 11,
   "id": "e9f83e6d-825d-4ab1-9976-cb928caf919a",
   "metadata": {},
   "outputs": [
    {
     "data": {
      "text/plain": [
       "<keras.feature_column.dense_features_v2.DenseFeatures at 0x134b78c50>"
      ]
     },
     "execution_count": 11,
     "metadata": {},
     "output_type": "execute_result"
    }
   ],
   "source": [
    "# Create Feature Layer\n",
    "feature_layer = tf.keras.layers.DenseFeatures(feature_columns)\n",
    "feature_layer"
   ]
  },
  {
   "cell_type": "markdown",
   "id": "c6a02fad-eafb-4685-a1d9-d21ef3fa6e1f",
   "metadata": {},
   "source": [
    "# Block [12-15]"
   ]
  },
  {
   "cell_type": "code",
   "execution_count": 12,
   "id": "92cd2352-2ea5-4046-8b90-cef8b8129dea",
   "metadata": {},
   "outputs": [],
   "source": [
    "#Create a Model file to define and store the model parameters, enabling convenient access whenever needed.\n",
    "long_model_file = 'crossover_short_model.py'"
   ]
  },
  {
   "cell_type": "code",
   "execution_count": 13,
   "id": "2f82f53b-103a-444a-a253-8efd3d056452",
   "metadata": {},
   "outputs": [
    {
     "name": "stdout",
     "output_type": "stream",
     "text": [
      "Overwriting crossover_short_model.py\n"
     ]
    }
   ],
   "source": [
    "%%writefile {long_model_file}\n",
    "\n",
    "import tensorflow as tf\n",
    "from tensorflow import feature_column\n",
    "from tensorflow.keras import layers\n",
    "\n",
    "def short_model(feature_layer):\n",
    "    \n",
    "    model = tf.keras.Sequential([\n",
    "      feature_layer,\n",
    "      layers.Dense(128, activation='relu'),\n",
    "      layers.Dense(32, activation=\"relu\"),\n",
    "      layers.Dropout(0.05),\n",
    "      layers.Dense(1, activation=\"sigmoid\")\n",
    "    ])\n",
    "\n",
    "    epochs = 60\n",
    "    learning_rate=0.1\n",
    "    decay_rate = learning_rate / epochs\n",
    "\n",
    "    opt = tf.keras.optimizers.legacy.SGD(learning_rate=learning_rate, decay=decay_rate)\n",
    "    los = tf.keras.metrics.BinaryAccuracy(threshold=0.5)\n",
    "\n",
    "    model.compile(\n",
    "                  optimizer=opt,\n",
    "                  loss='BinaryCrossentropy',\n",
    "                  metrics=[tf.keras.metrics.TruePositives()])\n",
    "    \n",
    "    return model"
   ]
  },
  {
   "cell_type": "code",
   "execution_count": 14,
   "id": "64c70f29-f0bf-4299-9a95-73963ae27dd0",
   "metadata": {},
   "outputs": [
    {
     "data": {
      "text/plain": [
       "<keras.engine.sequential.Sequential at 0x111e4ac10>"
      ]
     },
     "execution_count": 14,
     "metadata": {},
     "output_type": "execute_result"
    }
   ],
   "source": [
    "#import model file and add feature layer to it\n",
    "import crossover_short_model\n",
    "model = crossover_short_model.short_model(feature_layer)\n",
    "model"
   ]
  },
  {
   "cell_type": "code",
   "execution_count": 15,
   "id": "9f7c89cf-b7ad-417e-aea4-22094e71f7f1",
   "metadata": {
    "scrolled": true
   },
   "outputs": [
    {
     "name": "stdout",
     "output_type": "stream",
     "text": [
      "Epoch 1/60\n",
      "351/351 [==============================] - 3s 8ms/step - loss: 0.3444 - true_positives: 1365.0000 - val_loss: 0.3069 - val_true_positives: 505.0000\n",
      "Epoch 2/60\n",
      "351/351 [==============================] - 3s 7ms/step - loss: 0.3002 - true_positives: 1767.0000 - val_loss: 0.3027 - val_true_positives: 521.0000\n",
      "Epoch 3/60\n",
      "351/351 [==============================] - 2s 6ms/step - loss: 0.2974 - true_positives: 1801.0000 - val_loss: 0.2999 - val_true_positives: 475.0000\n",
      "Epoch 4/60\n",
      "351/351 [==============================] - 2s 6ms/step - loss: 0.2965 - true_positives: 1802.0000 - val_loss: 0.2978 - val_true_positives: 504.0000\n",
      "Epoch 5/60\n",
      "351/351 [==============================] - 1s 3ms/step - loss: 0.2942 - true_positives: 1806.0000 - val_loss: 0.2982 - val_true_positives: 504.0000\n",
      "Epoch 6/60\n",
      "351/351 [==============================] - 2s 6ms/step - loss: 0.2933 - true_positives: 1821.0000 - val_loss: 0.2978 - val_true_positives: 503.0000\n",
      "Epoch 7/60\n",
      "351/351 [==============================] - 2s 6ms/step - loss: 0.2921 - true_positives: 1827.0000 - val_loss: 0.2963 - val_true_positives: 504.0000\n",
      "Epoch 8/60\n",
      "351/351 [==============================] - 3s 8ms/step - loss: 0.2919 - true_positives: 1825.0000 - val_loss: 0.2960 - val_true_positives: 503.0000\n",
      "Epoch 9/60\n",
      "351/351 [==============================] - 2s 6ms/step - loss: 0.2918 - true_positives: 1828.0000 - val_loss: 0.2959 - val_true_positives: 478.0000\n",
      "Epoch 10/60\n",
      "351/351 [==============================] - 1s 3ms/step - loss: 0.2920 - true_positives: 1822.0000 - val_loss: 0.2966 - val_true_positives: 518.0000\n",
      "Epoch 11/60\n",
      "351/351 [==============================] - 2s 6ms/step - loss: 0.2909 - true_positives: 1836.0000 - val_loss: 0.2955 - val_true_positives: 504.0000\n",
      "Epoch 12/60\n",
      "351/351 [==============================] - 2s 6ms/step - loss: 0.2898 - true_positives: 1836.0000 - val_loss: 0.2953 - val_true_positives: 516.0000\n",
      "Epoch 13/60\n",
      "351/351 [==============================] - 2s 6ms/step - loss: 0.2897 - true_positives: 1835.0000 - val_loss: 0.2950 - val_true_positives: 516.0000\n",
      "Epoch 14/60\n",
      "351/351 [==============================] - 2s 7ms/step - loss: 0.2903 - true_positives: 1846.0000 - val_loss: 0.2949 - val_true_positives: 478.0000\n",
      "Epoch 15/60\n",
      "351/351 [==============================] - 1s 3ms/step - loss: 0.2901 - true_positives: 1817.0000 - val_loss: 0.2951 - val_true_positives: 516.0000\n",
      "Epoch 16/60\n",
      "351/351 [==============================] - 1s 3ms/step - loss: 0.2902 - true_positives: 1858.0000 - val_loss: 0.2951 - val_true_positives: 478.0000\n",
      "Epoch 17/60\n",
      "351/351 [==============================] - 1s 3ms/step - loss: 0.2911 - true_positives: 1826.0000 - val_loss: 0.2951 - val_true_positives: 490.0000\n",
      "Epoch 18/60\n",
      "351/351 [==============================] - 1s 3ms/step - loss: 0.2899 - true_positives: 1833.0000 - val_loss: 0.2950 - val_true_positives: 478.0000\n",
      "Epoch 19/60\n",
      "351/351 [==============================] - 3s 7ms/step - loss: 0.2890 - true_positives: 1826.0000 - val_loss: 0.2947 - val_true_positives: 490.0000\n",
      "Epoch 20/60\n",
      "351/351 [==============================] - 1s 3ms/step - loss: 0.2901 - true_positives: 1830.0000 - val_loss: 0.2951 - val_true_positives: 490.0000\n",
      "Epoch 21/60\n",
      "351/351 [==============================] - 1s 3ms/step - loss: 0.2897 - true_positives: 1830.0000 - val_loss: 0.2948 - val_true_positives: 490.0000\n",
      "Epoch 22/60\n",
      "351/351 [==============================] - 1s 3ms/step - loss: 0.2896 - true_positives: 1819.0000 - val_loss: 0.2950 - val_true_positives: 490.0000\n",
      "Epoch 23/60\n",
      "351/351 [==============================] - 3s 7ms/step - loss: 0.2893 - true_positives: 1827.0000 - val_loss: 0.2945 - val_true_positives: 490.0000\n",
      "Epoch 24/60\n",
      "351/351 [==============================] - 2s 6ms/step - loss: 0.2884 - true_positives: 1838.0000 - val_loss: 0.2944 - val_true_positives: 490.0000\n",
      "Epoch 25/60\n",
      "351/351 [==============================] - 1s 3ms/step - loss: 0.2899 - true_positives: 1833.0000 - val_loss: 0.2951 - val_true_positives: 490.0000\n",
      "Epoch 26/60\n",
      "351/351 [==============================] - 1s 3ms/step - loss: 0.2894 - true_positives: 1833.0000 - val_loss: 0.2944 - val_true_positives: 490.0000\n",
      "Epoch 27/60\n",
      "351/351 [==============================] - 1s 3ms/step - loss: 0.2887 - true_positives: 1836.0000 - val_loss: 0.2944 - val_true_positives: 490.0000\n",
      "Epoch 28/60\n",
      "351/351 [==============================] - 2s 7ms/step - loss: 0.2898 - true_positives: 1829.0000 - val_loss: 0.2944 - val_true_positives: 490.0000\n",
      "Epoch 29/60\n",
      "351/351 [==============================] - 2s 7ms/step - loss: 0.2887 - true_positives: 1838.0000 - val_loss: 0.2942 - val_true_positives: 490.0000\n",
      "Epoch 30/60\n",
      "351/351 [==============================] - 1s 3ms/step - loss: 0.2888 - true_positives: 1803.0000 - val_loss: 0.2948 - val_true_positives: 516.0000\n",
      "Epoch 31/60\n",
      "351/351 [==============================] - 2s 6ms/step - loss: 0.2891 - true_positives: 1855.0000 - val_loss: 0.2942 - val_true_positives: 490.0000\n",
      "Epoch 32/60\n",
      "351/351 [==============================] - 1s 3ms/step - loss: 0.2889 - true_positives: 1826.0000 - val_loss: 0.2942 - val_true_positives: 490.0000\n",
      "Epoch 33/60\n",
      "351/351 [==============================] - 1s 3ms/step - loss: 0.2886 - true_positives: 1844.0000 - val_loss: 0.2945 - val_true_positives: 516.0000\n",
      "Epoch 34/60\n",
      "351/351 [==============================] - 1s 3ms/step - loss: 0.2893 - true_positives: 1839.0000 - val_loss: 0.2942 - val_true_positives: 490.0000\n",
      "Epoch 35/60\n",
      "351/351 [==============================] - 3s 7ms/step - loss: 0.2887 - true_positives: 1834.0000 - val_loss: 0.2941 - val_true_positives: 490.0000\n",
      "Epoch 36/60\n",
      "351/351 [==============================] - 3s 7ms/step - loss: 0.2880 - true_positives: 1838.0000 - val_loss: 0.2941 - val_true_positives: 490.0000\n",
      "Epoch 37/60\n",
      "351/351 [==============================] - 1s 3ms/step - loss: 0.2885 - true_positives: 1820.0000 - val_loss: 0.2941 - val_true_positives: 490.0000\n",
      "Epoch 38/60\n",
      "351/351 [==============================] - 2s 6ms/step - loss: 0.2880 - true_positives: 1819.0000 - val_loss: 0.2941 - val_true_positives: 490.0000\n",
      "Epoch 39/60\n",
      "351/351 [==============================] - 1s 3ms/step - loss: 0.2884 - true_positives: 1820.0000 - val_loss: 0.2948 - val_true_positives: 525.0000\n",
      "Epoch 40/60\n",
      "351/351 [==============================] - 2s 6ms/step - loss: 0.2883 - true_positives: 1871.0000 - val_loss: 0.2940 - val_true_positives: 488.0000\n",
      "Epoch 41/60\n",
      "351/351 [==============================] - 2s 6ms/step - loss: 0.2888 - true_positives: 1822.0000 - val_loss: 0.2940 - val_true_positives: 490.0000\n",
      "Epoch 42/60\n",
      "351/351 [==============================] - 2s 6ms/step - loss: 0.2879 - true_positives: 1819.0000 - val_loss: 0.2940 - val_true_positives: 490.0000\n",
      "Epoch 43/60\n",
      "351/351 [==============================] - 1s 3ms/step - loss: 0.2880 - true_positives: 1833.0000 - val_loss: 0.2941 - val_true_positives: 490.0000\n",
      "Epoch 44/60\n",
      "351/351 [==============================] - 1s 3ms/step - loss: 0.2889 - true_positives: 1842.0000 - val_loss: 0.2940 - val_true_positives: 490.0000\n",
      "Epoch 45/60\n",
      "351/351 [==============================] - 1s 3ms/step - loss: 0.2884 - true_positives: 1828.0000 - val_loss: 0.2941 - val_true_positives: 490.0000\n",
      "Epoch 46/60\n",
      "351/351 [==============================] - 2s 6ms/step - loss: 0.2876 - true_positives: 1836.0000 - val_loss: 0.2939 - val_true_positives: 490.0000\n",
      "Epoch 47/60\n",
      "351/351 [==============================] - 1s 3ms/step - loss: 0.2875 - true_positives: 1830.0000 - val_loss: 0.2942 - val_true_positives: 490.0000\n",
      "Epoch 48/60\n",
      "351/351 [==============================] - 1s 3ms/step - loss: 0.2878 - true_positives: 1841.0000 - val_loss: 0.2940 - val_true_positives: 490.0000\n",
      "Epoch 49/60\n",
      "351/351 [==============================] - 2s 6ms/step - loss: 0.2877 - true_positives: 1838.0000 - val_loss: 0.2939 - val_true_positives: 490.0000\n",
      "Epoch 50/60\n",
      "351/351 [==============================] - 1s 3ms/step - loss: 0.2885 - true_positives: 1833.0000 - val_loss: 0.2940 - val_true_positives: 490.0000\n",
      "Epoch 51/60\n",
      "351/351 [==============================] - 1s 3ms/step - loss: 0.2882 - true_positives: 1835.0000 - val_loss: 0.2941 - val_true_positives: 490.0000\n",
      "Epoch 52/60\n",
      "351/351 [==============================] - 1s 3ms/step - loss: 0.2885 - true_positives: 1831.0000 - val_loss: 0.2940 - val_true_positives: 490.0000\n",
      "Epoch 53/60\n",
      "351/351 [==============================] - 3s 8ms/step - loss: 0.2881 - true_positives: 1829.0000 - val_loss: 0.2938 - val_true_positives: 490.0000\n",
      "Epoch 54/60\n",
      "351/351 [==============================] - 2s 6ms/step - loss: 0.2876 - true_positives: 1833.0000 - val_loss: 0.2938 - val_true_positives: 490.0000\n",
      "Epoch 55/60\n",
      "351/351 [==============================] - 2s 7ms/step - loss: 0.2882 - true_positives: 1844.0000 - val_loss: 0.2937 - val_true_positives: 490.0000\n",
      "Epoch 56/60\n",
      "351/351 [==============================] - 1s 3ms/step - loss: 0.2881 - true_positives: 1822.0000 - val_loss: 0.2940 - val_true_positives: 490.0000\n",
      "Epoch 57/60\n",
      "351/351 [==============================] - 3s 7ms/step - loss: 0.2880 - true_positives: 1828.0000 - val_loss: 0.2937 - val_true_positives: 490.0000\n",
      "Epoch 58/60\n",
      "351/351 [==============================] - 3s 8ms/step - loss: 0.2877 - true_positives: 1844.0000 - val_loss: 0.2936 - val_true_positives: 490.0000\n",
      "Epoch 59/60\n",
      "351/351 [==============================] - 1s 3ms/step - loss: 0.2884 - true_positives: 1826.0000 - val_loss: 0.2937 - val_true_positives: 490.0000\n",
      "Epoch 60/60\n",
      "351/351 [==============================] - 2s 7ms/step - loss: 0.2880 - true_positives: 1840.0000 - val_loss: 0.2936 - val_true_positives: 490.0000\n",
      "Model: \"sequential\"\n",
      "_________________________________________________________________\n",
      " Layer (type)                Output Shape              Param #   \n",
      "=================================================================\n",
      " dense_features (DenseFeatur  multiple                 0         \n",
      " es)                                                             \n",
      "                                                                 \n",
      " dense (Dense)               multiple                  2304      \n",
      "                                                                 \n",
      " dense_1 (Dense)             multiple                  4128      \n",
      "                                                                 \n",
      " dropout (Dropout)           multiple                  0         \n",
      "                                                                 \n",
      " dense_2 (Dense)             multiple                  33        \n",
      "                                                                 \n",
      "=================================================================\n",
      "Total params: 6,465\n",
      "Trainable params: 6,465\n",
      "Non-trainable params: 0\n",
      "_________________________________________________________________\n",
      "None\n"
     ]
    }
   ],
   "source": [
    "#Training the data using the long_model we have defined.\n",
    "from keras.callbacks import EarlyStopping, ModelCheckpoint\n",
    "\n",
    "tf.random.set_seed(0)\n",
    "\n",
    "cp_callback = [\n",
    "             EarlyStopping(monitor='val_loss', patience=5),\n",
    "             ModelCheckpoint(filepath=os.path.join(\"model_files\", \"crossover_short\"), monitor='val_loss', save_best_only=True)\n",
    "             ]\n",
    "\n",
    "history = model.fit(train_ds, epochs=60, callbacks=[cp_callback], validation_data=val_ds)\n",
    "\n",
    "print(model.summary())"
   ]
  },
  {
   "cell_type": "markdown",
   "id": "8c1b25af-6a13-41ac-afe4-6797c4bc8fab",
   "metadata": {},
   "source": [
    "# Block [16-18] \n",
    "Now that the training is done we examine the model's accuracy and how it evolves over the training process."
   ]
  },
  {
   "cell_type": "code",
   "execution_count": 16,
   "id": "e5075e6c-ca7b-4067-be9c-c6aa0ce63b0c",
   "metadata": {},
   "outputs": [
    {
     "data": {
      "image/png": "[encoded data removed]",
      "text/plain": [
       "<Figure size 2000x1000 with 1 Axes>"
      ]
     },
     "metadata": {},
     "output_type": "display_data"
    }
   ],
   "source": [
    "#Comparing the trends of the training and validation losses\n",
    "plt.rcParams[\"figure.figsize\"] = (20,10)\n",
    "plt.plot(history.history['loss'])\n",
    "plt.plot(history.history['val_loss'])\n",
    "plt.title('model accuracy')\n",
    "plt.ylabel('accuracy')\n",
    "plt.xlabel('epoch')\n",
    "plt.legend(['train', 'validation'], loc='upper left')\n",
    "plt.show()"
   ]
  },
  {
   "cell_type": "code",
   "execution_count": 17,
   "id": "7de57f1d-91ba-42f8-89c4-0b2fa295a903",
   "metadata": {},
   "outputs": [
    {
     "name": "stdout",
     "output_type": "stream",
     "text": [
      "110/110 [==============================] - 0s 2ms/step - loss: 0.2931 - true_positives: 571.0000\n",
      "Accuracy 571.0\n",
      "Accuracy % 65.93533487297921\n"
     ]
    }
   ],
   "source": [
    "#Evaluate the model accuracy on the test dataset\n",
    "loss, accuracy = model.evaluate(test_ds)\n",
    "print(\"Accuracy\", accuracy)\n",
    "accuracy_percent = accuracy/sum(test.target)*100\n",
    "print(\"Accuracy %\", accuracy_percent)"
   ]
  },
  {
   "cell_type": "code",
   "execution_count": 18,
   "id": "255eceda-bad8-4161-8d98-8885e5495ad4",
   "metadata": {},
   "outputs": [
    {
     "name": "stdout",
     "output_type": "stream",
     "text": [
      "----------save---------\n"
     ]
    }
   ],
   "source": [
    "#Save the model for future use\n",
    "print(\"----------save---------\")\n",
    "model.save_weights(os.path.join(\"model_files\", \"crossover_short\"))"
   ]
  }
 ],
 "metadata": {
  "kernelspec": {
   "display_name": "Python 3 (ipykernel)",
   "language": "python",
   "name": "python3"
  },
  "language_info": {
   "codemirror_mode": {
    "name": "ipython",
    "version": 3
   },
   "file_extension": ".py",
   "mimetype": "text/x-python",
   "name": "python",
   "nbconvert_exporter": "python",
   "pygments_lexer": "ipython3",
   "version": "3.11.3"
  }
 },
 "nbformat": 4,
 "nbformat_minor": 5
}
