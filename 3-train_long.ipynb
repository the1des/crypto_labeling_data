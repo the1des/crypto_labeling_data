{
 "cells": [
  {
   "cell_type": "markdown",
   "metadata": {},
   "source": [
    "# Block[1-3]\n",
    "To begin with the training process, we will import the dataset that was constructed during the feature selection phase and eliminate any extraneous columns from it in order to make it ready for training."
   ]
  },
  {
   "cell_type": "code",
   "execution_count": 1,
   "metadata": {},
   "outputs": [],
   "source": [
    "# Importing neccessary libraries for training and set logs to only show error messages\n",
    "import numpy as np\n",
    "import pandas as pd\n",
    "import matplotlib.pyplot as plt\n",
    "import os\n",
    "os.environ['TF_CPP_MIN_LOG_LEVEL'] = '2'\n",
    "import warnings\n",
    "with warnings.catch_warnings():\n",
    "    warnings.filterwarnings(\"ignore\", category=FutureWarning)\n",
    "    import tensorflow as tf\n",
    "tf.compat.v1.logging.set_verbosity(tf.compat.v1.logging.ERROR)\n",
    "from tensorflow import keras\n",
    "from tensorflow import feature_column\n",
    "from tensorflow.keras import layers"
   ]
  },
  {
   "cell_type": "code",
   "execution_count": 2,
   "metadata": {},
   "outputs": [],
   "source": [
    "#Read and trim the train dataset prepared in previous step\n",
    "source = pd.read_csv('train.csv')\n",
    "dataset = source.copy()\n",
    "#Remove Date From dataset\n",
    "dataset.drop(['Date' ], axis=1 ,inplace=True)\n",
    "#Set target_long as the main label cause we are going to train long and drop other unnecessary columns\n",
    "dataframe = dataset.copy()\n",
    "dataframe['target'] = dataset['target_long']\n",
    "#Custom drop list to be removed from dataframe. You can add or remove columns here based on your need\n",
    "drop_list = [\n",
    "    'close',\n",
    "    'open',\n",
    "    'high',\n",
    "    'low',\n",
    "    'sma9',\n",
    "    'sma20',\n",
    "    'sma200',\n",
    "    'target_long',\n",
    "    'target_short'\n",
    "]\n",
    "dataframe = dataframe.drop(drop_list, axis=1)"
   ]
  },
  {
   "cell_type": "code",
   "execution_count": 3,
   "metadata": {},
   "outputs": [
    {
     "data": {
      "text/html": [
       "<div>\n",
       "<style scoped>\n",
       "    .dataframe tbody tr th:only-of-type {\n",
       "        vertical-align: middle;\n",
       "    }\n",
       "\n",
       "    .dataframe tbody tr th {\n",
       "        vertical-align: top;\n",
       "    }\n",
       "\n",
       "    .dataframe thead th {\n",
       "        text-align: right;\n",
       "    }\n",
       "</style>\n",
       "<table border=\"1\" class=\"dataframe\">\n",
       "  <thead>\n",
       "    <tr style=\"text-align: right;\">\n",
       "      <th></th>\n",
       "      <th>volume</th>\n",
       "      <th>sma200_4h</th>\n",
       "      <th>diff_sma9</th>\n",
       "      <th>diff_sma20</th>\n",
       "      <th>diff_sma200</th>\n",
       "      <th>diff_sma200_4h</th>\n",
       "      <th>diff_sma9_sma20</th>\n",
       "      <th>target</th>\n",
       "    </tr>\n",
       "  </thead>\n",
       "  <tbody>\n",
       "    <tr>\n",
       "      <th>0</th>\n",
       "      <td>686.367415</td>\n",
       "      <td>NaN</td>\n",
       "      <td>-0.000961</td>\n",
       "      <td>-0.008023</td>\n",
       "      <td>-0.023196</td>\n",
       "      <td>NaN</td>\n",
       "      <td>-0.007068</td>\n",
       "      <td>0</td>\n",
       "    </tr>\n",
       "    <tr>\n",
       "      <th>1</th>\n",
       "      <td>613.539120</td>\n",
       "      <td>NaN</td>\n",
       "      <td>-0.002437</td>\n",
       "      <td>-0.010103</td>\n",
       "      <td>-0.025682</td>\n",
       "      <td>NaN</td>\n",
       "      <td>-0.007685</td>\n",
       "      <td>0</td>\n",
       "    </tr>\n",
       "    <tr>\n",
       "      <th>2</th>\n",
       "      <td>895.302181</td>\n",
       "      <td>NaN</td>\n",
       "      <td>-0.000964</td>\n",
       "      <td>-0.009124</td>\n",
       "      <td>-0.025261</td>\n",
       "      <td>NaN</td>\n",
       "      <td>-0.008168</td>\n",
       "      <td>0</td>\n",
       "    </tr>\n",
       "    <tr>\n",
       "      <th>3</th>\n",
       "      <td>796.714817</td>\n",
       "      <td>NaN</td>\n",
       "      <td>0.001341</td>\n",
       "      <td>-0.007466</td>\n",
       "      <td>-0.024130</td>\n",
       "      <td>NaN</td>\n",
       "      <td>-0.008795</td>\n",
       "      <td>0</td>\n",
       "    </tr>\n",
       "    <tr>\n",
       "      <th>4</th>\n",
       "      <td>1317.452909</td>\n",
       "      <td>NaN</td>\n",
       "      <td>0.001069</td>\n",
       "      <td>-0.006785</td>\n",
       "      <td>-0.023923</td>\n",
       "      <td>NaN</td>\n",
       "      <td>-0.007846</td>\n",
       "      <td>0</td>\n",
       "    </tr>\n",
       "    <tr>\n",
       "      <th>...</th>\n",
       "      <td>...</td>\n",
       "      <td>...</td>\n",
       "      <td>...</td>\n",
       "      <td>...</td>\n",
       "      <td>...</td>\n",
       "      <td>...</td>\n",
       "      <td>...</td>\n",
       "      <td>...</td>\n",
       "    </tr>\n",
       "    <tr>\n",
       "      <th>17540</th>\n",
       "      <td>1936.480276</td>\n",
       "      <td>21599.92275</td>\n",
       "      <td>0.015546</td>\n",
       "      <td>0.010303</td>\n",
       "      <td>0.115669</td>\n",
       "      <td>0.348463</td>\n",
       "      <td>-0.005163</td>\n",
       "      <td>0</td>\n",
       "    </tr>\n",
       "    <tr>\n",
       "      <th>17541</th>\n",
       "      <td>2524.473117</td>\n",
       "      <td>21599.92275</td>\n",
       "      <td>0.008593</td>\n",
       "      <td>0.004353</td>\n",
       "      <td>0.108392</td>\n",
       "      <td>0.341040</td>\n",
       "      <td>-0.004203</td>\n",
       "      <td>0</td>\n",
       "    </tr>\n",
       "    <tr>\n",
       "      <th>17542</th>\n",
       "      <td>1438.506320</td>\n",
       "      <td>21599.92275</td>\n",
       "      <td>0.010999</td>\n",
       "      <td>0.008351</td>\n",
       "      <td>0.112401</td>\n",
       "      <td>0.347266</td>\n",
       "      <td>-0.002620</td>\n",
       "      <td>0</td>\n",
       "    </tr>\n",
       "    <tr>\n",
       "      <th>17543</th>\n",
       "      <td>1976.419295</td>\n",
       "      <td>21599.92275</td>\n",
       "      <td>0.002706</td>\n",
       "      <td>0.002385</td>\n",
       "      <td>0.104471</td>\n",
       "      <td>0.339062</td>\n",
       "      <td>-0.000320</td>\n",
       "      <td>0</td>\n",
       "    </tr>\n",
       "    <tr>\n",
       "      <th>17544</th>\n",
       "      <td>2311.811442</td>\n",
       "      <td>21657.24225</td>\n",
       "      <td>0.004314</td>\n",
       "      <td>0.004921</td>\n",
       "      <td>0.106021</td>\n",
       "      <td>0.338819</td>\n",
       "      <td>0.000604</td>\n",
       "      <td>1</td>\n",
       "    </tr>\n",
       "  </tbody>\n",
       "</table>\n",
       "<p>17545 rows × 8 columns</p>\n",
       "</div>"
      ],
      "text/plain": [
       "            volume    sma200_4h  diff_sma9  diff_sma20  diff_sma200  \\\n",
       "0       686.367415          NaN  -0.000961   -0.008023    -0.023196   \n",
       "1       613.539120          NaN  -0.002437   -0.010103    -0.025682   \n",
       "2       895.302181          NaN  -0.000964   -0.009124    -0.025261   \n",
       "3       796.714817          NaN   0.001341   -0.007466    -0.024130   \n",
       "4      1317.452909          NaN   0.001069   -0.006785    -0.023923   \n",
       "...            ...          ...        ...         ...          ...   \n",
       "17540  1936.480276  21599.92275   0.015546    0.010303     0.115669   \n",
       "17541  2524.473117  21599.92275   0.008593    0.004353     0.108392   \n",
       "17542  1438.506320  21599.92275   0.010999    0.008351     0.112401   \n",
       "17543  1976.419295  21599.92275   0.002706    0.002385     0.104471   \n",
       "17544  2311.811442  21657.24225   0.004314    0.004921     0.106021   \n",
       "\n",
       "       diff_sma200_4h  diff_sma9_sma20  target  \n",
       "0                 NaN        -0.007068       0  \n",
       "1                 NaN        -0.007685       0  \n",
       "2                 NaN        -0.008168       0  \n",
       "3                 NaN        -0.008795       0  \n",
       "4                 NaN        -0.007846       0  \n",
       "...               ...              ...     ...  \n",
       "17540        0.348463        -0.005163       0  \n",
       "17541        0.341040        -0.004203       0  \n",
       "17542        0.347266        -0.002620       0  \n",
       "17543        0.339062        -0.000320       0  \n",
       "17544        0.338819         0.000604       1  \n",
       "\n",
       "[17545 rows x 8 columns]"
      ]
     },
     "execution_count": 3,
     "metadata": {},
     "output_type": "execute_result"
    }
   ],
   "source": [
    "dataframe"
   ]
  },
  {
   "cell_type": "markdown",
   "metadata": {},
   "source": [
    "# Block[4-7]\n",
    "We need to preprocess data for training a machine learning model in TensorFlow using feature columns to make it easier to train a neural network and improve the accuracy of the resulting model."
   ]
  },
  {
   "cell_type": "code",
   "execution_count": 4,
   "metadata": {},
   "outputs": [
    {
     "name": "stdout",
     "output_type": "stream",
     "text": [
      "11228 train examples\n",
      "5351 #train target\n",
      "-----------------\n",
      "2808 validation examples\n",
      "1322 #validation target\n",
      "-----------------\n",
      "3509 test examples\n",
      "1692 #test target\n"
     ]
    }
   ],
   "source": [
    "# Use the train_test_split function from the scikit-learn library to split our dataframe into training, validation, and testing sets\n",
    "from sklearn.model_selection import train_test_split\n",
    "train, test = train_test_split(dataframe, test_size=0.2)\n",
    "train, val = train_test_split(train, test_size=0.2)\n",
    "\n",
    "print(len(train), 'train examples')\n",
    "print(sum(train.target), '#train target')\n",
    "print(\"-----------------\")\n",
    "print(len(val), 'validation examples')\n",
    "print(sum(val.target), '#validation target')\n",
    "print(\"-----------------\")\n",
    "print(len(test), 'test examples')\n",
    "print(sum(test.target), '#test target')"
   ]
  },
  {
   "cell_type": "code",
   "execution_count": 5,
   "metadata": {},
   "outputs": [],
   "source": [
    "# A utility method to create a tf.data dataset from a Pandas Dataframe\n",
    "def df_to_dataset(dataframe, shuffle=True, batch_size=32):\n",
    "  dataframe = dataframe.copy()\n",
    "  labels = dataframe.pop('target')\n",
    "  ds = tf.data.Dataset.from_tensor_slices((dict(dataframe), labels))\n",
    "  if shuffle:\n",
    "    ds = ds.shuffle(buffer_size=len(dataframe))\n",
    "  ds = ds.batch(batch_size)\n",
    "  return ds"
   ]
  },
  {
   "cell_type": "code",
   "execution_count": 6,
   "metadata": {},
   "outputs": [],
   "source": [
    "batch_size = 32 # A small batch sized is used for demonstration purposes\n",
    "train_ds = df_to_dataset(train, batch_size=batch_size)\n",
    "val_ds = df_to_dataset(val, shuffle=False, batch_size=batch_size)\n",
    "test_ds = df_to_dataset(test, shuffle=False, batch_size=batch_size)"
   ]
  },
  {
   "cell_type": "code",
   "execution_count": 7,
   "metadata": {},
   "outputs": [
    {
     "name": "stdout",
     "output_type": "stream",
     "text": [
      "Every feature: ['volume', 'sma200_4h', 'diff_sma9', 'diff_sma20', 'diff_sma200', 'diff_sma200_4h', 'diff_sma9_sma20']\n",
      "A batch of targets: tf.Tensor([1 1 0 1 1 1 0 1 1 1 0 0 1 1 0 0 0 1 1 0 1 0 1 0 0 0 1 0 0 0 1 1], shape=(32,), dtype=int64)\n"
     ]
    }
   ],
   "source": [
    "for feature_batch, label_batch in train_ds.take(1):\n",
    "  print('Every feature:', list(feature_batch.keys()))\n",
    "  print('A batch of targets:', label_batch )\n",
    "\n",
    "example_batch = next(iter(train_ds))[0]\n",
    "\n",
    "# A utility method to create a feature column\n",
    "# and to transform a batch of data\n",
    "def demo(feature_column):\n",
    "  feature_layer = layers.DenseFeatures(feature_column)\n",
    "  print(feature_layer(example_batch).numpy())"
   ]
  },
  {
   "cell_type": "markdown",
   "metadata": {},
   "source": [
    "# Block [8-11]\n",
    "Processing the raw features as Tensorflow features and add them feature_layer of Keras library"
   ]
  },
  {
   "cell_type": "code",
   "execution_count": 8,
   "metadata": {},
   "outputs": [],
   "source": [
    "#Make bound json file for storing the bucketized features bounds for further usage\n",
    "import json\n",
    "data = {}\n",
    "with open('long_bound.json', 'w') as outfile:\n",
    "        json.dump(data, outfile)\n",
    "        \n",
    "#Define a function to take the columns from dataset and save their boundaries.      \n",
    "def build_bound(col,no):\n",
    "    buk , ret = pd.qcut(dataframe[col],no, retbins = True )\n",
    "    bound = []\n",
    "    for i in ret:\n",
    "        bound.append(i)\n",
    "\n",
    "    bound.pop(0)\n",
    "    bound.pop(-1)\n",
    "    print(\"Boundaries \" + col + \":\",bound)\n",
    "    \n",
    "    ###save json\n",
    "    f = open(\"long_bound.json\", \"r\")\n",
    "    data = json.load(f)\n",
    "    data[col] = bound\n",
    "    with open('long_bound.json', 'w') as outfile:\n",
    "        json.dump(data, outfile)\n",
    "    return bound"
   ]
  },
  {
   "cell_type": "code",
   "execution_count": 9,
   "metadata": {},
   "outputs": [
    {
     "name": "stdout",
     "output_type": "stream",
     "text": [
      "Boundaries diff_sma200: [-0.0551348876151837, -0.0296349481545231, -0.0170946811218105, -0.0074924473916852, -0.00020499640851440128, 0.0079104661004511, 0.0172849403896393, 0.0279396131881294, 0.0414189525769075, 0.058815372708410994, 0.0924662641789162]\n",
      "Boundaries diff_sma200_4h: [-0.11136249115399735, -0.06290632204386784, -0.0213801713065502, -0.003489010443146234, 0.017854377516296798, 0.0386775882624073, 0.06486508328044813, 0.1021401567463601, 0.1293736369416523, 0.16666295332529912, 0.22627613936647464]\n",
      "Boundaries diff_sma9_sma20: [-0.0069146453593489, -0.0028353280723926, -0.000910629560715, 0.0004875399186031, 0.0019505353694305, 0.0042155178886833, 0.0086904016409328]\n"
     ]
    }
   ],
   "source": [
    "#Define numerical and bucketized features\n",
    "\n",
    "#diffsma9\n",
    "diff_sma9 = feature_column.numeric_column('diff_sma9')\n",
    "\n",
    "#diff_sma200\n",
    "bucksize = 12\n",
    "bound = build_bound(\"diff_sma200\",bucksize)\n",
    "diff_sma200 = feature_column.numeric_column('diff_sma200')\n",
    "diff_sma200_buckets = feature_column.bucketized_column(diff_sma200, boundaries=bound)\n",
    "\n",
    "#diff_sma200_4h\n",
    "bucksize = 12\n",
    "bound = build_bound(\"diff_sma200_4h\",bucksize)\n",
    "diff_sma200_4h = feature_column.numeric_column('diff_sma200_4h')\n",
    "diff_sma200_4h_buckets = feature_column.bucketized_column(diff_sma200_4h, boundaries=bound)\n",
    "\n",
    "#diff_sma9_sma20\n",
    "bucksize = 8\n",
    "bound = build_bound(\"diff_sma9_sma20\",bucksize)\n",
    "diff_sma9_sma20 = feature_column.numeric_column('diff_sma9_sma20')\n",
    "diff_sma9_sma20_buckets = feature_column.bucketized_column(diff_sma9_sma20, boundaries=bound)"
   ]
  },
  {
   "cell_type": "code",
   "execution_count": 10,
   "metadata": {},
   "outputs": [
    {
     "name": "stdout",
     "output_type": "stream",
     "text": [
      "Col Info: NumericColumn(key='diff_sma9', shape=(1,), default_value=None, dtype=tf.float32, normalizer_fn=None)\n",
      "-----------------\n",
      "Col Info: BucketizedColumn(source_column=NumericColumn(key='diff_sma200', shape=(1,), default_value=None, dtype=tf.float32, normalizer_fn=None), boundaries=(-0.0551348876151837, -0.0296349481545231, -0.0170946811218105, -0.0074924473916852, -0.00020499640851440128, 0.0079104661004511, 0.0172849403896393, 0.0279396131881294, 0.0414189525769075, 0.058815372708410994, 0.0924662641789162))\n",
      "-----------------\n",
      "Col Info: BucketizedColumn(source_column=NumericColumn(key='diff_sma200_4h', shape=(1,), default_value=None, dtype=tf.float32, normalizer_fn=None), boundaries=(-0.11136249115399735, -0.06290632204386784, -0.0213801713065502, -0.003489010443146234, 0.017854377516296798, 0.0386775882624073, 0.06486508328044813, 0.1021401567463601, 0.1293736369416523, 0.16666295332529912, 0.22627613936647464))\n",
      "-----------------\n",
      "Col Info: BucketizedColumn(source_column=NumericColumn(key='diff_sma9_sma20', shape=(1,), default_value=None, dtype=tf.float32, normalizer_fn=None), boundaries=(-0.0069146453593489, -0.0028353280723926, -0.000910629560715, 0.0004875399186031, 0.0019505353694305, 0.0042155178886833, 0.0086904016409328))\n",
      "-----------------\n"
     ]
    }
   ],
   "source": [
    "#Define feature columns to pass to model for training\n",
    "\n",
    "feature_columns = []\n",
    "\n",
    "feature_columns.append(diff_sma9)\n",
    "feature_columns.append(diff_sma200_buckets)\n",
    "feature_columns.append(diff_sma200_4h_buckets)\n",
    "feature_columns.append(diff_sma9_sma20_buckets)\n",
    "\n",
    "for col in feature_columns:\n",
    "    print(\"Col Info:\", col)\n",
    "    print(\"-----------------\")"
   ]
  },
  {
   "cell_type": "code",
   "execution_count": 11,
   "metadata": {},
   "outputs": [
    {
     "data": {
      "text/plain": [
       "<keras.feature_column.dense_features_v2.DenseFeatures at 0x1338eadd0>"
      ]
     },
     "execution_count": 11,
     "metadata": {},
     "output_type": "execute_result"
    }
   ],
   "source": [
    "# Create Feature Layer\n",
    "feature_layer = tf.keras.layers.DenseFeatures(feature_columns)\n",
    "feature_layer"
   ]
  },
  {
   "cell_type": "markdown",
   "metadata": {},
   "source": [
    "# Block [12-15]"
   ]
  },
  {
   "cell_type": "code",
   "execution_count": 12,
   "metadata": {},
   "outputs": [],
   "source": [
    "#Create a Model file to define and store the model parameters, enabling convenient access whenever needed.\n",
    "long_model_file = 'crossover_long_model.py'"
   ]
  },
  {
   "cell_type": "code",
   "execution_count": 13,
   "metadata": {},
   "outputs": [
    {
     "name": "stdout",
     "output_type": "stream",
     "text": [
      "Overwriting crossover_long_model.py\n"
     ]
    }
   ],
   "source": [
    "%%writefile {long_model_file}\n",
    "\n",
    "import tensorflow as tf\n",
    "from tensorflow import feature_column\n",
    "from tensorflow.keras import layers\n",
    "\n",
    "def long_model(feature_layer):\n",
    "    \n",
    "    model = tf.keras.Sequential([\n",
    "      feature_layer,\n",
    "      layers.Dense(128, activation='relu'),\n",
    "      layers.Dense(32, activation=\"relu\"),\n",
    "      layers.Dropout(0.05),\n",
    "      layers.Dense(1, activation=\"sigmoid\")\n",
    "    ])\n",
    "\n",
    "    epochs = 60\n",
    "    learning_rate=0.01\n",
    "    decay_rate = learning_rate / epochs\n",
    "\n",
    "    opt = tf.keras.optimizers.legacy.SGD(learning_rate=learning_rate, decay=decay_rate)\n",
    "    los = tf.keras.metrics.BinaryAccuracy(threshold=0.5)\n",
    "\n",
    "    model.compile(\n",
    "                  optimizer=opt,\n",
    "                  loss='BinaryCrossentropy',\n",
    "                  metrics=[tf.keras.metrics.TruePositives()])\n",
    "    \n",
    "    return model"
   ]
  },
  {
   "cell_type": "code",
   "execution_count": 14,
   "metadata": {},
   "outputs": [
    {
     "data": {
      "text/plain": [
       "<keras.engine.sequential.Sequential at 0x133f3dfd0>"
      ]
     },
     "execution_count": 14,
     "metadata": {},
     "output_type": "execute_result"
    }
   ],
   "source": [
    "#import model file and add feature layer to it\n",
    "import crossover_long_model\n",
    "model = crossover_long_model.long_model(feature_layer)\n",
    "model"
   ]
  },
  {
   "cell_type": "code",
   "execution_count": 15,
   "metadata": {
    "scrolled": true
   },
   "outputs": [
    {
     "name": "stdout",
     "output_type": "stream",
     "text": [
      "Epoch 1/60\n",
      "351/351 [==============================] - 5s 10ms/step - loss: 0.6608 - true_positives: 2823.0000 - val_loss: 0.6183 - val_true_positives: 915.0000\n",
      "Epoch 2/60\n",
      "351/351 [==============================] - 4s 11ms/step - loss: 0.5538 - true_positives: 4366.0000 - val_loss: 0.4772 - val_true_positives: 1168.0000\n",
      "Epoch 3/60\n",
      "351/351 [==============================] - 8s 23ms/step - loss: 0.3940 - true_positives: 4915.0000 - val_loss: 0.3324 - val_true_positives: 1208.0000\n",
      "Epoch 4/60\n",
      "351/351 [==============================] - 4s 10ms/step - loss: 0.2903 - true_positives: 4969.0000 - val_loss: 0.2744 - val_true_positives: 1213.0000\n",
      "Epoch 5/60\n",
      "351/351 [==============================] - 4s 12ms/step - loss: 0.2543 - true_positives: 4983.0000 - val_loss: 0.2554 - val_true_positives: 1213.0000\n",
      "Epoch 6/60\n",
      "351/351 [==============================] - 3s 8ms/step - loss: 0.2404 - true_positives: 4988.0000 - val_loss: 0.2471 - val_true_positives: 1213.0000\n",
      "Epoch 7/60\n",
      "351/351 [==============================] - 5s 14ms/step - loss: 0.2345 - true_positives: 4981.0000 - val_loss: 0.2424 - val_true_positives: 1212.0000\n",
      "Epoch 8/60\n",
      "351/351 [==============================] - 5s 15ms/step - loss: 0.2301 - true_positives: 4989.0000 - val_loss: 0.2392 - val_true_positives: 1213.0000\n",
      "Epoch 9/60\n",
      "351/351 [==============================] - 3s 7ms/step - loss: 0.2291 - true_positives: 4987.0000 - val_loss: 0.2372 - val_true_positives: 1214.0000\n",
      "Epoch 10/60\n",
      "351/351 [==============================] - 3s 8ms/step - loss: 0.2255 - true_positives: 4984.0000 - val_loss: 0.2359 - val_true_positives: 1214.0000\n",
      "Epoch 11/60\n",
      "351/351 [==============================] - 3s 9ms/step - loss: 0.2245 - true_positives: 4985.0000 - val_loss: 0.2355 - val_true_positives: 1220.0000\n",
      "Epoch 12/60\n",
      "351/351 [==============================] - 5s 14ms/step - loss: 0.2223 - true_positives: 4993.0000 - val_loss: 0.2339 - val_true_positives: 1215.0000\n",
      "Epoch 13/60\n",
      "351/351 [==============================] - 3s 9ms/step - loss: 0.2219 - true_positives: 4989.0000 - val_loss: 0.2332 - val_true_positives: 1215.0000\n",
      "Epoch 14/60\n",
      "351/351 [==============================] - 2s 4ms/step - loss: 0.2220 - true_positives: 4989.0000 - val_loss: 0.2333 - val_true_positives: 1213.0000\n",
      "Epoch 15/60\n",
      "351/351 [==============================] - 5s 13ms/step - loss: 0.2202 - true_positives: 4984.0000 - val_loss: 0.2322 - val_true_positives: 1215.0000\n",
      "Epoch 16/60\n",
      "351/351 [==============================] - 3s 8ms/step - loss: 0.2189 - true_positives: 4990.0000 - val_loss: 0.2317 - val_true_positives: 1215.0000\n",
      "Epoch 17/60\n",
      "351/351 [==============================] - 3s 8ms/step - loss: 0.2191 - true_positives: 4993.0000 - val_loss: 0.2310 - val_true_positives: 1215.0000\n",
      "Epoch 18/60\n",
      "351/351 [==============================] - 5s 13ms/step - loss: 0.2180 - true_positives: 4981.0000 - val_loss: 0.2306 - val_true_positives: 1214.0000\n",
      "Epoch 19/60\n",
      "351/351 [==============================] - 4s 11ms/step - loss: 0.2179 - true_positives: 4993.0000 - val_loss: 0.2301 - val_true_positives: 1215.0000\n",
      "Epoch 20/60\n",
      "351/351 [==============================] - 4s 11ms/step - loss: 0.2151 - true_positives: 4997.0000 - val_loss: 0.2297 - val_true_positives: 1215.0000\n",
      "Epoch 21/60\n",
      "351/351 [==============================] - 3s 9ms/step - loss: 0.2165 - true_positives: 4984.0000 - val_loss: 0.2293 - val_true_positives: 1214.0000\n",
      "Epoch 22/60\n",
      "351/351 [==============================] - 3s 8ms/step - loss: 0.2150 - true_positives: 4986.0000 - val_loss: 0.2291 - val_true_positives: 1215.0000\n",
      "Epoch 23/60\n",
      "351/351 [==============================] - 4s 11ms/step - loss: 0.2154 - true_positives: 4985.0000 - val_loss: 0.2291 - val_true_positives: 1211.0000\n",
      "Epoch 24/60\n",
      "351/351 [==============================] - 3s 10ms/step - loss: 0.2152 - true_positives: 4981.0000 - val_loss: 0.2285 - val_true_positives: 1214.0000\n",
      "Epoch 25/60\n",
      "351/351 [==============================] - 4s 12ms/step - loss: 0.2154 - true_positives: 4985.0000 - val_loss: 0.2284 - val_true_positives: 1211.0000\n",
      "Epoch 26/60\n",
      "351/351 [==============================] - 3s 8ms/step - loss: 0.2133 - true_positives: 4976.0000 - val_loss: 0.2280 - val_true_positives: 1212.0000\n",
      "Epoch 27/60\n",
      "351/351 [==============================] - 5s 14ms/step - loss: 0.2140 - true_positives: 4982.0000 - val_loss: 0.2277 - val_true_positives: 1212.0000\n",
      "Epoch 28/60\n",
      "351/351 [==============================] - 4s 12ms/step - loss: 0.2143 - true_positives: 4972.0000 - val_loss: 0.2274 - val_true_positives: 1212.0000\n",
      "Epoch 29/60\n",
      "351/351 [==============================] - 3s 7ms/step - loss: 0.2137 - true_positives: 4993.0000 - val_loss: 0.2275 - val_true_positives: 1211.0000\n",
      "Epoch 30/60\n",
      "351/351 [==============================] - 4s 11ms/step - loss: 0.2130 - true_positives: 4977.0000 - val_loss: 0.2269 - val_true_positives: 1212.0000\n",
      "Epoch 31/60\n",
      "351/351 [==============================] - 3s 9ms/step - loss: 0.2126 - true_positives: 4982.0000 - val_loss: 0.2268 - val_true_positives: 1212.0000\n",
      "Epoch 32/60\n",
      "351/351 [==============================] - 6s 18ms/step - loss: 0.2131 - true_positives: 4975.0000 - val_loss: 0.2264 - val_true_positives: 1212.0000\n",
      "Epoch 33/60\n",
      "351/351 [==============================] - 4s 11ms/step - loss: 0.2130 - true_positives: 4981.0000 - val_loss: 0.2267 - val_true_positives: 1207.0000\n",
      "Epoch 34/60\n",
      "351/351 [==============================] - 7s 20ms/step - loss: 0.2117 - true_positives: 4977.0000 - val_loss: 0.2261 - val_true_positives: 1212.0000\n",
      "Epoch 35/60\n",
      "351/351 [==============================] - 5s 12ms/step - loss: 0.2131 - true_positives: 4979.0000 - val_loss: 0.2260 - val_true_positives: 1212.0000\n",
      "Epoch 36/60\n",
      "351/351 [==============================] - 3s 8ms/step - loss: 0.2111 - true_positives: 4973.0000 - val_loss: 0.2258 - val_true_positives: 1208.0000\n",
      "Epoch 37/60\n",
      "351/351 [==============================] - 7s 19ms/step - loss: 0.2115 - true_positives: 4972.0000 - val_loss: 0.2254 - val_true_positives: 1212.0000\n",
      "Epoch 38/60\n",
      "351/351 [==============================] - 4s 11ms/step - loss: 0.2113 - true_positives: 4973.0000 - val_loss: 0.2253 - val_true_positives: 1212.0000\n",
      "Epoch 39/60\n",
      "351/351 [==============================] - 6s 16ms/step - loss: 0.2108 - true_positives: 4972.0000 - val_loss: 0.2252 - val_true_positives: 1212.0000\n",
      "Epoch 40/60\n",
      "351/351 [==============================] - 3s 9ms/step - loss: 0.2112 - true_positives: 4982.0000 - val_loss: 0.2250 - val_true_positives: 1208.0000\n",
      "Epoch 41/60\n",
      "351/351 [==============================] - 4s 12ms/step - loss: 0.2102 - true_positives: 4974.0000 - val_loss: 0.2248 - val_true_positives: 1212.0000\n",
      "Epoch 42/60\n",
      "351/351 [==============================] - 3s 9ms/step - loss: 0.2109 - true_positives: 4973.0000 - val_loss: 0.2248 - val_true_positives: 1208.0000\n",
      "Epoch 43/60\n",
      "351/351 [==============================] - 4s 11ms/step - loss: 0.2086 - true_positives: 4963.0000 - val_loss: 0.2245 - val_true_positives: 1212.0000\n",
      "Epoch 44/60\n",
      "351/351 [==============================] - 4s 10ms/step - loss: 0.2076 - true_positives: 4978.0000 - val_loss: 0.2244 - val_true_positives: 1211.0000\n",
      "Epoch 45/60\n",
      "351/351 [==============================] - 3s 10ms/step - loss: 0.2104 - true_positives: 4977.0000 - val_loss: 0.2243 - val_true_positives: 1208.0000\n",
      "Epoch 46/60\n",
      "351/351 [==============================] - 4s 10ms/step - loss: 0.2091 - true_positives: 4983.0000 - val_loss: 0.2242 - val_true_positives: 1208.0000\n",
      "Epoch 47/60\n",
      "351/351 [==============================] - 3s 10ms/step - loss: 0.2087 - true_positives: 4969.0000 - val_loss: 0.2242 - val_true_positives: 1204.0000\n",
      "Epoch 48/60\n",
      "351/351 [==============================] - 4s 10ms/step - loss: 0.2076 - true_positives: 4974.0000 - val_loss: 0.2239 - val_true_positives: 1204.0000\n",
      "Epoch 49/60\n",
      "351/351 [==============================] - 3s 9ms/step - loss: 0.2084 - true_positives: 4966.0000 - val_loss: 0.2238 - val_true_positives: 1204.0000\n",
      "Epoch 50/60\n",
      "351/351 [==============================] - 3s 8ms/step - loss: 0.2082 - true_positives: 4965.0000 - val_loss: 0.2236 - val_true_positives: 1204.0000\n",
      "Epoch 51/60\n",
      "351/351 [==============================] - 3s 9ms/step - loss: 0.2083 - true_positives: 4954.0000 - val_loss: 0.2234 - val_true_positives: 1208.0000\n",
      "Epoch 52/60\n",
      "351/351 [==============================] - 6s 16ms/step - loss: 0.2067 - true_positives: 4966.0000 - val_loss: 0.2233 - val_true_positives: 1204.0000\n",
      "Epoch 53/60\n",
      "351/351 [==============================] - 2s 7ms/step - loss: 0.2063 - true_positives: 4967.0000 - val_loss: 0.2233 - val_true_positives: 1204.0000\n",
      "Epoch 54/60\n",
      "351/351 [==============================] - 3s 7ms/step - loss: 0.2070 - true_positives: 4967.0000 - val_loss: 0.2232 - val_true_positives: 1204.0000\n",
      "Epoch 55/60\n",
      "351/351 [==============================] - 3s 8ms/step - loss: 0.2074 - true_positives: 4964.0000 - val_loss: 0.2231 - val_true_positives: 1204.0000\n",
      "Epoch 56/60\n",
      "351/351 [==============================] - 4s 12ms/step - loss: 0.2075 - true_positives: 4966.0000 - val_loss: 0.2229 - val_true_positives: 1204.0000\n",
      "Epoch 57/60\n",
      "351/351 [==============================] - 2s 4ms/step - loss: 0.2064 - true_positives: 4964.0000 - val_loss: 0.2230 - val_true_positives: 1204.0000\n",
      "Epoch 58/60\n",
      "351/351 [==============================] - 6s 15ms/step - loss: 0.2063 - true_positives: 4972.0000 - val_loss: 0.2229 - val_true_positives: 1204.0000\n",
      "Epoch 59/60\n",
      "351/351 [==============================] - 5s 13ms/step - loss: 0.2054 - true_positives: 4968.0000 - val_loss: 0.2227 - val_true_positives: 1204.0000\n",
      "Epoch 60/60\n",
      "351/351 [==============================] - 3s 7ms/step - loss: 0.2055 - true_positives: 4965.0000 - val_loss: 0.2228 - val_true_positives: 1204.0000\n",
      "Model: \"sequential\"\n",
      "_________________________________________________________________\n",
      " Layer (type)                Output Shape              Param #   \n",
      "=================================================================\n",
      " dense_features (DenseFeatur  multiple                 0         \n",
      " es)                                                             \n",
      "                                                                 \n",
      " dense (Dense)               multiple                  4352      \n",
      "                                                                 \n",
      " dense_1 (Dense)             multiple                  4128      \n",
      "                                                                 \n",
      " dropout (Dropout)           multiple                  0         \n",
      "                                                                 \n",
      " dense_2 (Dense)             multiple                  33        \n",
      "                                                                 \n",
      "=================================================================\n",
      "Total params: 8,513\n",
      "Trainable params: 8,513\n",
      "Non-trainable params: 0\n",
      "_________________________________________________________________\n",
      "None\n"
     ]
    }
   ],
   "source": [
    "#Training the data using the long_model we have defined.\n",
    "from keras.callbacks import EarlyStopping, ModelCheckpoint\n",
    "\n",
    "tf.random.set_seed(0)\n",
    "\n",
    "cp_callback = [\n",
    "             EarlyStopping(monitor='val_loss', patience=5),\n",
    "             ModelCheckpoint(filepath=os.path.join(\"model_files\", \"crossover_long\"), monitor='val_loss', save_best_only=True)\n",
    "             ]\n",
    "\n",
    "history = model.fit(train_ds, epochs=60, callbacks=[cp_callback], validation_data=val_ds)\n",
    "\n",
    "print(model.summary())"
   ]
  },
  {
   "cell_type": "markdown",
   "metadata": {},
   "source": [
    "# Block [16-18] \n",
    "Now that the training is done we examine the model's accuracy and how it evolves over the training process."
   ]
  },
  {
   "cell_type": "code",
   "execution_count": 16,
   "metadata": {},
   "outputs": [
    {
     "data": {
      "image/png": "[encoded data removed]",
      "text/plain": [
       "<Figure size 2000x1000 with 1 Axes>"
      ]
     },
     "metadata": {},
     "output_type": "display_data"
    }
   ],
   "source": [
    "#Comparing the trends of the training and validation losses\n",
    "plt.rcParams[\"figure.figsize\"] = (20,10)\n",
    "plt.plot(history.history['loss'])\n",
    "plt.plot(history.history['val_loss'])\n",
    "plt.title('model accuracy')\n",
    "plt.ylabel('accuracy')\n",
    "plt.xlabel('epoch')\n",
    "plt.legend(['train', 'validation'], loc='upper left')\n",
    "plt.show()"
   ]
  },
  {
   "cell_type": "code",
   "execution_count": 17,
   "metadata": {},
   "outputs": [
    {
     "name": "stdout",
     "output_type": "stream",
     "text": [
      "110/110 [==============================] - 0s 2ms/step - loss: 0.2076 - true_positives: 1564.0000\n",
      "Accuracy 1564.0\n",
      "Accuracy % 92.43498817966903\n"
     ]
    }
   ],
   "source": [
    "#Evaluate the model accuracy on the test dataset\n",
    "loss, accuracy = model.evaluate(test_ds)\n",
    "print(\"Accuracy\", accuracy)\n",
    "accuracy_percent = accuracy/sum(test.target)*100\n",
    "print(\"Accuracy %\", accuracy_percent)"
   ]
  },
  {
   "cell_type": "code",
   "execution_count": 18,
   "metadata": {},
   "outputs": [
    {
     "name": "stdout",
     "output_type": "stream",
     "text": [
      "----------save---------\n"
     ]
    }
   ],
   "source": [
    "#Save the model for future use\n",
    "print(\"----------save---------\")\n",
    "model.save_weights(os.path.join(\"model_files\", \"crossover_long\"))"
   ]
  }
 ],
 "metadata": {
  "kernelspec": {
   "display_name": "Python 3 (ipykernel)",
   "language": "python",
   "name": "python3"
  },
  "language_info": {
   "codemirror_mode": {
    "name": "ipython",
    "version": 3
   },
   "file_extension": ".py",
   "mimetype": "text/x-python",
   "name": "python",
   "nbconvert_exporter": "python",
   "pygments_lexer": "ipython3",
   "version": "3.11.3"
  }
 },
 "nbformat": 4,
 "nbformat_minor": 4
}
